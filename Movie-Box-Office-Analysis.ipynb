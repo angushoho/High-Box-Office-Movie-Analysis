{
 "cells": [
  {
   "cell_type": "markdown",
   "metadata": {},
   "source": [
    "# Top box office movies analysis"
   ]
  },
  {
   "cell_type": "markdown",
   "metadata": {},
   "source": [
    "## 為何選擇分析這些資料?\n",
    "想了解電影票房和電影的評價是否有實質的關係"
   ]
  },
  {
   "cell_type": "markdown",
   "metadata": {},
   "source": [
    "## 從資料中觀察到的現象\n",
    "在蒐集全球票房前50高的電影後，比對 IMDb 對這些電影的評分"
   ]
  },
  {
   "cell_type": "code",
   "execution_count": 1,
   "metadata": {},
   "outputs": [
    {
     "name": "stdout",
     "output_type": "stream",
     "text": [
      "                          title  rating\n",
      "0                        Avatar     7.8\n",
      "1                       Titanic     7.8\n",
      "2  Star Wars: The Force Awakens     8.0\n",
      "3        Avengers: Infinity War     8.7\n",
      "4                Jurassic World     7.0\n"
     ]
    },
    {
     "data": {
      "text/plain": [
       "Text(0,0.5,'box office')"
      ]
     },
     "execution_count": 1,
     "metadata": {},
     "output_type": "execute_result"
    },
    {
     "data": {
      "image/png": "[encoded data removed]",
      "text/plain": [
       "<Figure size 720x432 with 1 Axes>"
      ]
     },
     "metadata": {},
     "output_type": "display_data"
    }
   ],
   "source": [
    "import json\n",
    "import requests\n",
    "import pandas as pd\n",
    "import numpy as np\n",
    "import matplotlib.pyplot as plt\n",
    "from requests_html import HTMLSession\n",
    "%matplotlib inline\n",
    "\n",
    "def change_money(str):\n",
    "    try:\n",
    "        money = int(str.replace(',', ''))\n",
    "        return money\n",
    "    except Exception as e:\n",
    "        str = str.replace(',', '')\n",
    "        for i in str:\n",
    "            if i.isalpha():\n",
    "                str.replace(i, '')\n",
    "                \n",
    "''' get ranking list '''\n",
    "wiki_url = 'https://en.wikipedia.org/wiki/List_of_highest-grossing_films'\n",
    "session = HTMLSession()\n",
    "response = session.get(wiki_url)\n",
    "titles = response.html.find('.wikitable')[0].find('i')\n",
    "ranking_list = []\n",
    "for title in titles:\n",
    "    ranking_list.append(title.text)\n",
    "\n",
    "''' get IMDb data '''\n",
    "api_key = '2455a527'\n",
    "year = ''\n",
    "plot = 'full'\n",
    "\n",
    "IMDb_rating = []\n",
    "for title in ranking_list:\n",
    "    url = 'http://www.omdbapi.com/?t=' + title + '&y=' + year + 'plot=' + plot + '&apikey=' + api_key\n",
    "    r = requests.get(url)\n",
    "    try:\n",
    "        data = json.loads(r.text)\n",
    "        score = data['Ratings'][0]['Value']\n",
    "        score = str(score).split('/')[0]\n",
    "        score = float(score)\n",
    "        IMDb_rating.append(score)\n",
    "    except Exception as e:\n",
    "        IMDb_rating.append(None)\n",
    "\n",
    "''' using pandas '''\n",
    "movie_series = pd.Series(ranking_list, index=IMDb_rating)\n",
    "\n",
    "dict = {'title': ranking_list, 'rating': IMDb_rating}\n",
    "movie_frame = pd.DataFrame(dict)\n",
    "print(movie_frame.head())\n",
    "\n",
    "''' money list '''\n",
    "money_list = []\n",
    "box_office = response.html.find('.wikitable')[0].find('tbody [align=right]')\n",
    "# print(box_office)\n",
    "for money in box_office:\n",
    "    m = change_money(money.text.split('$')[1])\n",
    "    money_list.append(m)\n",
    "# print(money_list)\n",
    "\n",
    "plt.figure(figsize=(10, 6))\n",
    "plt.scatter(movie_frame['rating'], money_list)\n",
    "plt.xlabel('IMDb\\'s rating')\n",
    "plt.ylabel('box office')\n",
    "# plt.show()"
   ]
  },
  {
   "cell_type": "markdown",
   "metadata": {},
   "source": [
    "## Average : 6.39  https://www.quora.com/What-is-an-average-rating-on-IMDB-for-a-movie"
   ]
  },
  {
   "cell_type": "code",
   "execution_count": 8,
   "metadata": {},
   "outputs": [
    {
     "data": {
      "text/plain": [
       "([<matplotlib.axis.XTick at 0x52e4910>,\n",
       "  <matplotlib.axis.XTick at 0x52e4550>,\n",
       "  <matplotlib.axis.XTick at 0x52e43d0>,\n",
       "  <matplotlib.axis.XTick at 0x5303230>,\n",
       "  <matplotlib.axis.XTick at 0x53034b0>,\n",
       "  <matplotlib.axis.XTick at 0x53034d0>,\n",
       "  <matplotlib.axis.XTick at 0x5303910>,\n",
       "  <matplotlib.axis.XTick at 0x5303bf0>,\n",
       "  <matplotlib.axis.XTick at 0x5303ed0>,\n",
       "  <matplotlib.axis.XTick at 0x530f1d0>],\n",
       " <a list of 10 Text xticklabel objects>)"
      ]
     },
     "execution_count": 8,
     "metadata": {},
     "output_type": "execute_result"
    },
    {
     "data": {
      "image/png": "[encoded data removed]",
      "text/plain": [
       "<Figure size 432x288 with 1 Axes>"
      ]
     },
     "metadata": {},
     "output_type": "display_data"
    }
   ],
   "source": [
    "ranking_statistics = [0] * 10\n",
    "# print(IMDb_rating)\n",
    "for rating in IMDb_rating:\n",
    "    try:                                         # in case of None value\n",
    "        # rating_int = int(rating)\n",
    "        rating_int = round(rating)\n",
    "        ranking_statistics[rating_int - 1] += 1\n",
    "    except Exception as e:\n",
    "        pass\n",
    "rate = list(range(1, 11))\n",
    "plt.bar(rate, ranking_statistics)\n",
    "plt.xticks(rate, rate)"
   ]
  },
  {
   "cell_type": "code",
   "execution_count": null,
   "metadata": {},
   "outputs": [],
   "source": []
  },
  {
   "cell_type": "code",
   "execution_count": null,
   "metadata": {},
   "outputs": [],
   "source": []
  }
 ],
 "metadata": {
  "kernelspec": {
   "display_name": "Python 3",
   "language": "python",
   "name": "python3"
  },
  "language_info": {
   "codemirror_mode": {
    "name": "ipython",
    "version": 3
   },
   "file_extension": ".py",
   "mimetype": "text/x-python",
   "name": "python",
   "nbconvert_exporter": "python",
   "pygments_lexer": "ipython3",
   "version": "3.6.5"
  }
 },
 "nbformat": 4,
 "nbformat_minor": 2
}
