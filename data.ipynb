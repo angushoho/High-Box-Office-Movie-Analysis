{
 "cells": [
  {
   "cell_type": "code",
   "execution_count": null,
   "metadata": {},
   "outputs": [],
   "source": [
    "from requests_html import HTMLSession\n",
    "from requests_html import requests\n",
    "import json\n",
    "\n",
    "api_key = '2455a527'\n",
    "year = ''\n",
    "plot = 'full'\n",
    "title = 'Fight Club'\n",
    "\n",
    "url = 'http://www.omdbapi.com/?t=' + title + '&y=' + year + 'plot=' + plot + '&apikey=' + api_key\n",
    "r = requests.get(url)\n",
    "data = json.loads(r.text)\n",
    "data = json.dumps(data, indent=4)\n",
    "print(data)\n",
    "'''\n",
    "try:\n",
    "    data = json.loads(r.text)\n",
    "    score = data['Ratings'][0]['Value']\n",
    "    score = str(score).split('/')[0]\n",
    "    score = float(score)\n",
    "    \n",
    "except Exception as e:\n",
    "    # IMDb_rating.append(None)\n",
    "    print(url)\n",
    "'''"
   ]
  }
 ],
 "metadata": {
  "kernelspec": {
   "display_name": "Python 3",
   "language": "python",
   "name": "python3"
  },
  "language_info": {
   "codemirror_mode": {
    "name": "ipython",
    "version": 3
   },
   "file_extension": ".py",
   "mimetype": "text/x-python",
   "name": "python",
   "nbconvert_exporter": "python",
   "pygments_lexer": "ipython3",
   "version": "3.6.5"
  }
 },
 "nbformat": 4,
 "nbformat_minor": 2
}
