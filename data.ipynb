{
 "cells": [
  {
   "cell_type": "markdown",
   "metadata": {},
   "source": [
    "# Top box office movies analysis"
   ]
  },
  {
   "cell_type": "markdown",
   "metadata": {},
   "source": [
    "## 為何選擇分析這些資料?\n",
    "想了解電影票房和電影的評價是否有實質的關係"
   ]
  },
  {
   "cell_type": "code",
   "execution_count": null,
   "metadata": {},
   "outputs": [],
   "source": [
    "from requests_html import HTMLSession\n",
    "from requests_html import requests\n",
    "import json\n",
    "\n",
    "api_key = '2455a527'\n",
    "year = ''\n",
    "plot = 'full'\n",
    "title = 'Fight Club'\n",
    "\n",
    "url = 'http://www.omdbapi.com/?t=' + title + '&y=' + year + 'plot=' + plot + '&apikey=' + api_key\n",
    "r = requests.get(url)\n",
    "data = json.loads(r.text)\n",
    "data = json.dumps(data, indent=4)\n",
    "print(data)\n",
    "'''\n",
    "try:\n",
    "    data = json.loads(r.text)\n",
    "    score = data['Ratings'][0]['Value']\n",
    "    score = str(score).split('/')[0]\n",
    "    score = float(score)\n",
    "    \n",
    "except Exception as e:\n",
    "    # IMDb_rating.append(None)\n",
    "    print(url)\n",
    "'''"
   ]
  },
  {
   "cell_type": "code",
   "execution_count": null,
   "metadata": {},
   "outputs": [],
   "source": []
  },
  {
   "cell_type": "code",
   "execution_count": null,
   "metadata": {},
   "outputs": [],
   "source": []
  }
 ],
 "metadata": {
  "kernelspec": {
   "display_name": "Python 3",
   "language": "python",
   "name": "python3"
  },
  "language_info": {
   "codemirror_mode": {
    "name": "ipython",
    "version": 3
   },
   "file_extension": ".py",
   "mimetype": "text/x-python",
   "name": "python",
   "nbconvert_exporter": "python",
   "pygments_lexer": "ipython3",
   "version": "3.6.5"
  }
 },
 "nbformat": 4,
 "nbformat_minor": 2
}
